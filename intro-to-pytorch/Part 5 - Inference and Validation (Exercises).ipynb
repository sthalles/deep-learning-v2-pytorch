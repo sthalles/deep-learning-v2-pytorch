{
  "nbformat": 4,
  "nbformat_minor": 0,
  "metadata": {
    "kernelspec": {
      "name": "python3",
      "display_name": "Python 3"
    },
    "language_info": {
      "codemirror_mode": {
        "name": "ipython",
        "version": 3
      },
      "file_extension": ".py",
      "mimetype": "text/x-python",
      "name": "python",
      "nbconvert_exporter": "python",
      "pygments_lexer": "ipython3",
      "version": "3.6.6"
    },
    "colab": {
      "name": "Part 5 - Inference and Validation (Exercises).ipynb",
      "provenance": [],
      "include_colab_link": true
    },
    "accelerator": "GPU"
  },
  "cells": [
    {
      "cell_type": "markdown",
      "metadata": {
        "id": "view-in-github",
        "colab_type": "text"
      },
      "source": [
        "<a href=\"https://colab.research.google.com/github/sthalles/deep-learning-v2-pytorch/blob/master/intro-to-pytorch/Part%205%20-%20Inference%20and%20Validation%20(Exercises).ipynb\" target=\"_parent\"><img src=\"https://colab.research.google.com/assets/colab-badge.svg\" alt=\"Open In Colab\"/></a>"
      ]
    },
    {
      "cell_type": "markdown",
      "metadata": {
        "id": "-8UDtZvswn3F",
        "colab_type": "text"
      },
      "source": [
        "# Inference and Validation\n",
        "\n",
        "Now that you have a trained network, you can use it for making predictions. This is typically called **inference**, a term borrowed from statistics. However, neural networks have a tendency to perform *too well* on the training data and aren't able to generalize to data that hasn't been seen before. This is called **overfitting** and it impairs inference performance. To test for overfitting while training, we measure the performance on data not in the training set called the **validation** set. We avoid overfitting through regularization such as dropout while monitoring the validation performance during training. In this notebook, I'll show you how to do this in PyTorch. \n",
        "\n",
        "As usual, let's start by loading the dataset through torchvision. You'll learn more about torchvision and loading data in a later part. This time we'll be taking advantage of the test set which you can get by setting `train=False` here:\n",
        "\n",
        "```python\n",
        "testset = datasets.FashionMNIST('~/.pytorch/F_MNIST_data/', download=True, train=False, transform=transform)\n",
        "```\n",
        "\n",
        "The test set contains images just like the training set. Typically you'll see 10-20% of the original dataset held out for testing and validation with the rest being used for training."
      ]
    },
    {
      "cell_type": "code",
      "metadata": {
        "id": "JsbNmwozwn3M",
        "colab_type": "code",
        "colab": {}
      },
      "source": [
        "import torch\n",
        "from torchvision import datasets, transforms\n",
        "import matplotlib.pyplot as plt\n",
        "\n",
        "# Define a transform to normalize the data\n",
        "transform = transforms.Compose([transforms.ToTensor(),\n",
        "                                transforms.Normalize((0.5,), (0.5,))])\n",
        "# Download and load the training data\n",
        "trainset = datasets.FashionMNIST('~/.pytorch/F_MNIST_data/', download=True, train=True, transform=transform)\n",
        "trainloader = torch.utils.data.DataLoader(trainset, batch_size=64, shuffle=True)\n",
        "\n",
        "# Download and load the test data\n",
        "testset = datasets.FashionMNIST('~/.pytorch/F_MNIST_data/', download=True, train=False, transform=transform)\n",
        "testloader = torch.utils.data.DataLoader(testset, batch_size=512, shuffle=True)"
      ],
      "execution_count": 0,
      "outputs": []
    },
    {
      "cell_type": "markdown",
      "metadata": {
        "id": "1Llry9xwwn3Z",
        "colab_type": "text"
      },
      "source": [
        "Here I'll create a model like normal, using the same one from my solution for part 4."
      ]
    },
    {
      "cell_type": "code",
      "metadata": {
        "id": "nFGHtgVHwn3c",
        "colab_type": "code",
        "colab": {}
      },
      "source": [
        "from torch import nn, optim\n",
        "import torch.nn.functional as F\n",
        "\n",
        "class Classifier(nn.Module):\n",
        "    def __init__(self):\n",
        "        super().__init__()\n",
        "        self.fc1 = nn.Linear(784, 256)\n",
        "        self.fc2 = nn.Linear(256, 128)\n",
        "        self.fc3 = nn.Linear(128, 64)\n",
        "        self.fc4 = nn.Linear(64, 10)\n",
        "        \n",
        "    def forward(self, x):\n",
        "        # make sure input tensor is flattened\n",
        "        x = x.view(x.shape[0], -1)\n",
        "        \n",
        "        x = F.relu(self.fc1(x))\n",
        "        x = F.relu(self.fc2(x))\n",
        "        x = F.relu(self.fc3(x))\n",
        "        x = F.log_softmax(self.fc4(x), dim=1)\n",
        "        \n",
        "        return x"
      ],
      "execution_count": 0,
      "outputs": []
    },
    {
      "cell_type": "markdown",
      "metadata": {
        "id": "QYT84XpWwn3g",
        "colab_type": "text"
      },
      "source": [
        "The goal of validation is to measure the model's performance on data that isn't part of the training set. Performance here is up to the developer to define though. Typically this is just accuracy, the percentage of classes the network predicted correctly. Other options are [precision and recall](https://en.wikipedia.org/wiki/Precision_and_recall#Definition_(classification_context)) and top-5 error rate. We'll focus on accuracy here. First I'll do a forward pass with one batch from the test set."
      ]
    },
    {
      "cell_type": "code",
      "metadata": {
        "id": "uEemnYdzwn3h",
        "colab_type": "code",
        "colab": {
          "base_uri": "https://localhost:8080/",
          "height": 35
        },
        "outputId": "fdd5062b-c915-460d-f89b-e6677651ef2b"
      },
      "source": [
        "# creates the classifier\n",
        "model = Classifier()\n",
        "\n",
        "# get a batch of data and labels\n",
        "images, labels = next(iter(testloader))\n",
        "\n",
        "# Get the class probabilities\n",
        "ps = torch.exp(model(images))\n",
        "\n",
        "# Make sure the shape is appropriate, we should get 10 class probabilities for 64 examples\n",
        "print(ps.shape)"
      ],
      "execution_count": 3,
      "outputs": [
        {
          "output_type": "stream",
          "text": [
            "torch.Size([512, 10])\n"
          ],
          "name": "stdout"
        }
      ]
    },
    {
      "cell_type": "markdown",
      "metadata": {
        "id": "sd5w-6Vawn3n",
        "colab_type": "text"
      },
      "source": [
        "With the probabilities, we can get the most likely class using the `ps.topk` method. This returns the $k$ highest values. Since we just want the most likely class, we can use `ps.topk(1)`. This returns a tuple of the top-$k$ values and the top-$k$ indices. If the highest value is the fifth element, we'll get back 4 as the index."
      ]
    },
    {
      "cell_type": "code",
      "metadata": {
        "id": "usYJopgpwn3r",
        "colab_type": "code",
        "colab": {
          "base_uri": "https://localhost:8080/",
          "height": 199
        },
        "outputId": "f168f9e7-2de3-4cf0-f851-e96c2b6b6c97"
      },
      "source": [
        "top_p, top_class = ps.topk(1, dim=1)\n",
        "# Look at the most likely classes for the first 10 examples\n",
        "print(top_class[:10,:])"
      ],
      "execution_count": 4,
      "outputs": [
        {
          "output_type": "stream",
          "text": [
            "tensor([[5],\n",
            "        [5],\n",
            "        [5],\n",
            "        [5],\n",
            "        [5],\n",
            "        [5],\n",
            "        [5],\n",
            "        [5],\n",
            "        [5],\n",
            "        [5]])\n"
          ],
          "name": "stdout"
        }
      ]
    },
    {
      "cell_type": "markdown",
      "metadata": {
        "id": "rrcYaSbiwn3x",
        "colab_type": "text"
      },
      "source": [
        "Now we can check if the predicted classes match the labels. This is simple to do by equating `top_class` and `labels`, but we have to be careful of the shapes. Here `top_class` is a 2D tensor with shape `(64, 1)` while `labels` is 1D with shape `(64)`. To get the equality to work out the way we want, `top_class` and `labels` must have the same shape.\n",
        "\n",
        "If we do\n",
        "\n",
        "```python\n",
        "equals = top_class == labels\n",
        "```\n",
        "\n",
        "`equals` will have shape `(64, 64)`, try it yourself. What it's doing is comparing the one element in each row of `top_class` with each element in `labels` which returns 64 True/False boolean values for each row."
      ]
    },
    {
      "cell_type": "code",
      "metadata": {
        "id": "IQQI96MCwn3z",
        "colab_type": "code",
        "colab": {}
      },
      "source": [
        "equals = top_class == labels.view(*top_class.shape)"
      ],
      "execution_count": 0,
      "outputs": []
    },
    {
      "cell_type": "markdown",
      "metadata": {
        "id": "tQDByzdCwn32",
        "colab_type": "text"
      },
      "source": [
        "Now we need to calculate the percentage of correct predictions. `equals` has boolean values, either False or True. This means that if we just sum up all the values and divide by the number of values, we get the percentage of correct predictions. This is the same operation as taking the mean, so we can get the accuracy with a call to `torch.mean`. If only it was that simple. If you try `torch.mean(equals)`, you'll get an error\n",
        "\n",
        "```\n",
        "RuntimeError: mean is not implemented for type torch.ByteTensor\n",
        "```\n",
        "\n",
        "This happens because `equals` has type `torch.ByteTensor` but `torch.mean` isn't implemented for tensors with that type. So we'll need to convert `equals` to a float tensor. Note that when we take `torch.mean` it returns a scalar tensor, to get the actual value as a float we'll need to do `accuracy.item()`."
      ]
    },
    {
      "cell_type": "code",
      "metadata": {
        "id": "mZL0X4dMwn33",
        "colab_type": "code",
        "colab": {
          "base_uri": "https://localhost:8080/",
          "height": 35
        },
        "outputId": "9170672c-291b-41a0-ad55-8924ba4eeae1"
      },
      "source": [
        "accuracy = torch.mean(equals.type(torch.FloatTensor))\n",
        "print(f'Accuracy: {accuracy.item()*100}%')"
      ],
      "execution_count": 6,
      "outputs": [
        {
          "output_type": "stream",
          "text": [
            "Accuracy: 9.1796875%\n"
          ],
          "name": "stdout"
        }
      ]
    },
    {
      "cell_type": "markdown",
      "metadata": {
        "id": "JDw5TRA2wn38",
        "colab_type": "text"
      },
      "source": [
        "The network is untrained so it's making random guesses and we should see an accuracy around 10%. Now let's train our network and include our validation pass so we can measure how well the network is performing on the test set. Since we're not updating our parameters in the validation pass, we can speed up our code by turning off gradients using `torch.no_grad()`:\n",
        "\n",
        "```python\n",
        "# turn off gradients\n",
        "with torch.no_grad():\n",
        "    # validation pass here\n",
        "    for images, labels in testloader:\n",
        "        ...\n",
        "```\n",
        "\n",
        ">**Exercise:** Implement the validation loop below and print out the total accuracy after the loop. You can largely copy and paste the code from above, but I suggest typing it in because writing it out yourself is essential for building the skill. In general you'll always learn more by typing it rather than copy-pasting. You should be able to get an accuracy above 80%."
      ]
    },
    {
      "cell_type": "code",
      "metadata": {
        "id": "bAtMyE4swn3_",
        "colab_type": "code",
        "colab": {
          "base_uri": "https://localhost:8080/",
          "height": 563
        },
        "outputId": "f8535c4d-9dfd-4a05-a4e1-8c27aa8876f7"
      },
      "source": [
        "model = Classifier()\n",
        "criterion = nn.NLLLoss()\n",
        "optimizer = optim.Adam(model.parameters(), lr=0.003)\n",
        "\n",
        "epochs = 30\n",
        "steps = 0\n",
        "\n",
        "train_losses, test_losses = [], []\n",
        "for e in range(epochs):\n",
        "    running_loss = 0\n",
        "    for images, labels in trainloader:\n",
        "        \n",
        "        optimizer.zero_grad()\n",
        "        \n",
        "        log_ps = model(images)\n",
        "        loss = criterion(log_ps, labels)\n",
        "        loss.backward()\n",
        "        optimizer.step()\n",
        "        \n",
        "        running_loss += loss.item()\n",
        "        \n",
        "    else:\n",
        "        ## TODO: Implement the validation pass and print out the validation accuracy\n",
        "        accuracy = 0\n",
        "        test_loss = 0\n",
        "\n",
        "        with torch.no_grad():\n",
        "          for i, (x_batch, y_batch) in enumerate(testloader):\n",
        "            logprobs = model(x_batch)\n",
        "            test_loss += criterion(logprobs, y_batch)\n",
        "\n",
        "            probs = torch.exp(logprobs)\n",
        "            _, predictions = probs.topk(1, dim=1)\n",
        "            accuracy += torch.mean((predictions.squeeze() == y_batch).type(torch.FloatTensor))\n",
        "\n",
        "          test_losses.append(test_loss/len(testloader))\n",
        "          train_losses.append(running_loss/len(trainloader))\n",
        "\n",
        "        print(\"Epochs: {}/{}\".format(e+1, epochs),\n",
        "              \"Training loss: {}\".format(running_loss / len(trainloader)),\n",
        "              \"Test loss: {}\".format(test_loss / len(testloader)),\n",
        "              \"Test accuracy: {}\".format(accuracy / len(testloader)))"
      ],
      "execution_count": 7,
      "outputs": [
        {
          "output_type": "stream",
          "text": [
            "Epochs: 1/30 Training loss: 0.5088367411799268 Test loss: 0.5259626507759094 Test accuracy: 0.8150390386581421\n",
            "Epochs: 2/30 Training loss: 0.395383391584923 Test loss: 0.41170626878738403 Test accuracy: 0.8484662175178528\n",
            "Epochs: 3/30 Training loss: 0.3526260345252846 Test loss: 0.3983355164527893 Test accuracy: 0.8569393157958984\n",
            "Epochs: 4/30 Training loss: 0.33441421353041745 Test loss: 0.3724563717842102 Test accuracy: 0.8646197319030762\n",
            "Epochs: 5/30 Training loss: 0.31597138805461844 Test loss: 0.3952753245830536 Test accuracy: 0.8572036027908325\n",
            "Epochs: 6/30 Training loss: 0.30240856505024916 Test loss: 0.3581618368625641 Test accuracy: 0.8717141151428223\n",
            "Epochs: 7/30 Training loss: 0.29259873699468336 Test loss: 0.38459616899490356 Test accuracy: 0.865039050579071\n",
            "Epochs: 8/30 Training loss: 0.27949616470253036 Test loss: 0.361917644739151 Test accuracy: 0.8720703125\n",
            "Epochs: 9/30 Training loss: 0.2728759838002069 Test loss: 0.37558552622795105 Test accuracy: 0.8711971044540405\n",
            "Epochs: 10/30 Training loss: 0.26414294732309607 Test loss: 0.3749139904975891 Test accuracy: 0.8729951977729797\n",
            "Epochs: 11/30 Training loss: 0.25934667211732887 Test loss: 0.37061256170272827 Test accuracy: 0.8760110139846802\n",
            "Epochs: 12/30 Training loss: 0.24926871724768299 Test loss: 0.3745312988758087 Test accuracy: 0.878205418586731\n",
            "Epochs: 13/30 Training loss: 0.24612022195654765 Test loss: 0.3822978138923645 Test accuracy: 0.8744600415229797\n",
            "Epochs: 14/30 Training loss: 0.2417564202687824 Test loss: 0.4025796055793762 Test accuracy: 0.8762580752372742\n",
            "Epochs: 15/30 Training loss: 0.24010849683317168 Test loss: 0.38171523809432983 Test accuracy: 0.8820369839668274\n",
            "Epochs: 16/30 Training loss: 0.22968896387069465 Test loss: 0.3979209065437317 Test accuracy: 0.8726562261581421\n",
            "Epochs: 17/30 Training loss: 0.22522306282605445 Test loss: 0.3658772110939026 Test accuracy: 0.8796185255050659\n",
            "Epochs: 18/30 Training loss: 0.2223473607715386 Test loss: 0.3934776782989502 Test accuracy: 0.8833410143852234\n",
            "Epochs: 19/30 Training loss: 0.21948062163442056 Test loss: 0.40130615234375 Test accuracy: 0.874132513999939\n",
            "Epochs: 20/30 Training loss: 0.21103880667626096 Test loss: 0.390781968832016 Test accuracy: 0.8832375407218933\n",
            "Epochs: 21/30 Training loss: 0.20933249368787066 Test loss: 0.4111247658729553 Test accuracy: 0.8796012997627258\n",
            "Epochs: 22/30 Training loss: 0.20537291334540858 Test loss: 0.37232598662376404 Test accuracy: 0.8870347142219543\n",
            "Epochs: 23/30 Training loss: 0.20259165175274998 Test loss: 0.39493441581726074 Test accuracy: 0.8820714950561523\n",
            "Epochs: 24/30 Training loss: 0.1977915367218795 Test loss: 0.3772554099559784 Test accuracy: 0.8848058581352234\n",
            "Epochs: 25/30 Training loss: 0.19029546173206016 Test loss: 0.3947378396987915 Test accuracy: 0.8830021023750305\n",
            "Epochs: 26/30 Training loss: 0.19029466740524908 Test loss: 0.42622774839401245 Test accuracy: 0.8776252865791321\n",
            "Epochs: 27/30 Training loss: 0.19062413269681716 Test loss: 0.3950884938240051 Test accuracy: 0.8843060731887817\n",
            "Epochs: 28/30 Training loss: 0.18691430105440526 Test loss: 0.41514235734939575 Test accuracy: 0.8811006546020508\n",
            "Epochs: 29/30 Training loss: 0.18452688829222721 Test loss: 0.40980690717697144 Test accuracy: 0.8820656538009644\n",
            "Epochs: 30/30 Training loss: 0.18509349596501987 Test loss: 0.4491651654243469 Test accuracy: 0.8829905390739441\n"
          ],
          "name": "stdout"
        }
      ]
    },
    {
      "cell_type": "code",
      "metadata": {
        "id": "fZmlRkhpT17s",
        "colab_type": "code",
        "colab": {
          "base_uri": "https://localhost:8080/",
          "height": 284
        },
        "outputId": "aff4278c-d2b3-4179-ab10-3a69e7684e03"
      },
      "source": [
        "plt.plot(train_losses, label=\"train loss\")\n",
        "plt.plot(test_losses, label=\"test loss\")\n",
        "plt.legend(frameon=False)"
      ],
      "execution_count": 8,
      "outputs": [
        {
          "output_type": "execute_result",
          "data": {
            "text/plain": [
              "<matplotlib.legend.Legend at 0x7f6688ebc240>"
            ]
          },
          "metadata": {
            "tags": []
          },
          "execution_count": 8
        },
        {
          "output_type": "display_data",
          "data": {
            "image/png": "[encoded data removed]",
            "text/plain": [
              "<Figure size 432x288 with 1 Axes>"
            ]
          },
          "metadata": {
            "tags": []
          }
        }
      ]
    },
    {
      "cell_type": "markdown",
      "metadata": {
        "id": "SFkgYPN9wn4C",
        "colab_type": "text"
      },
      "source": [
        "## Overfitting\n",
        "\n",
        "If we look at the training and validation losses as we train the network, we can see a phenomenon known as overfitting.\n",
        "\n",
        "<img src='https://github.com/sthalles/deep-learning-v2-pytorch/blob/master/intro-to-pytorch/assets/overfitting.png?raw=1' width=450px>\n",
        "\n",
        "The network learns the training set better and better, resulting in lower training losses. However, it starts having problems generalizing to data outside the training set leading to the validation loss increasing. The ultimate goal of any deep learning model is to make predictions on new data, so we should strive to get the lowest validation loss possible. One option is to use the version of the model with the lowest validation loss, here the one around 8-10 training epochs. This strategy is called *early-stopping*. In practice, you'd save the model frequently as you're training then later choose the model with the lowest validation loss.\n",
        "\n",
        "The most common method to reduce overfitting (outside of early-stopping) is *dropout*, where we randomly drop input units. This forces the network to share information between weights, increasing it's ability to generalize to new data. Adding dropout in PyTorch is straightforward using the [`nn.Dropout`](https://pytorch.org/docs/stable/nn.html#torch.nn.Dropout) module.\n",
        "\n",
        "```python\n",
        "class Classifier(nn.Module):\n",
        "    def __init__(self):\n",
        "        super().__init__()\n",
        "        self.fc1 = nn.Linear(784, 256)\n",
        "        self.fc2 = nn.Linear(256, 128)\n",
        "        self.fc3 = nn.Linear(128, 64)\n",
        "        self.fc4 = nn.Linear(64, 10)\n",
        "        \n",
        "        # Dropout module with 0.2 drop probability\n",
        "        self.dropout = nn.Dropout(p=0.2)\n",
        "        \n",
        "    def forward(self, x):\n",
        "        # make sure input tensor is flattened\n",
        "        x = x.view(x.shape[0], -1)\n",
        "        \n",
        "        # Now with dropout\n",
        "        x = self.dropout(F.relu(self.fc1(x)))\n",
        "        x = self.dropout(F.relu(self.fc2(x)))\n",
        "        x = self.dropout(F.relu(self.fc3(x)))\n",
        "        \n",
        "        # output so no dropout here\n",
        "        x = F.log_softmax(self.fc4(x), dim=1)\n",
        "        \n",
        "        return x\n",
        "```\n",
        "\n",
        "During training we want to use dropout to prevent overfitting, but during inference we want to use the entire network. So, we need to turn off dropout during validation, testing, and whenever we're using the network to make predictions. To do this, you use `model.eval()`. This sets the model to evaluation mode where the dropout probability is 0. You can turn dropout back on by setting the model to train mode with `model.train()`. In general, the pattern for the validation loop will look like this, where you turn off gradients, set the model to evaluation mode, calculate the validation loss and metric, then set the model back to train mode.\n",
        "\n",
        "```python\n",
        "# turn off gradients\n",
        "with torch.no_grad():\n",
        "    \n",
        "    # set model to evaluation mode\n",
        "    model.eval()\n",
        "    \n",
        "    # validation pass here\n",
        "    for images, labels in testloader:\n",
        "        ...\n",
        "\n",
        "# set model back to train mode\n",
        "model.train()\n",
        "```"
      ]
    },
    {
      "cell_type": "markdown",
      "metadata": {
        "id": "RL6Kox3uwn4D",
        "colab_type": "text"
      },
      "source": [
        "> **Exercise:** Add dropout to your model and train it on Fashion-MNIST again. See if you can get a lower validation loss or higher accuracy."
      ]
    },
    {
      "cell_type": "code",
      "metadata": {
        "id": "Dm8lz0anwn4E",
        "colab_type": "code",
        "colab": {}
      },
      "source": [
        "## TODO: Define your model with dropout added\n",
        "from torch import nn, optim\n",
        "import torch.nn.functional as F\n",
        "\n",
        "class Classifier(nn.Module):\n",
        "    def __init__(self):\n",
        "        super().__init__()\n",
        "        self.fc1 = nn.Linear(784, 256)\n",
        "        self.fc2 = nn.Linear(256, 128)\n",
        "        self.fc3 = nn.Linear(128, 64)\n",
        "        self.fc4 = nn.Linear(64, 10)\n",
        "        self.dropout = nn.Dropout(0.2)\n",
        "        \n",
        "    def forward(self, x):\n",
        "        # make sure input tensor is flattened\n",
        "        x = x.view(x.shape[0], -1)\n",
        "        \n",
        "        x = self.dropout(F.relu(self.fc1(x)))\n",
        "        x = self.dropout(F.relu(self.fc2(x)))\n",
        "        x = self.dropout(F.relu(self.fc3(x)))\n",
        "        x = F.log_softmax(self.fc4(x), dim=1)\n",
        "        \n",
        "        return x"
      ],
      "execution_count": 0,
      "outputs": []
    },
    {
      "cell_type": "code",
      "metadata": {
        "id": "6n379rARwn4G",
        "colab_type": "code",
        "colab": {
          "base_uri": "https://localhost:8080/",
          "height": 563
        },
        "outputId": "8c4a771f-3162-466d-b940-f7dc68b6bf57"
      },
      "source": [
        "## TODO: Train your model with dropout, and monitor the training progress with the validation loss and accuracy\n",
        "model = Classifier()\n",
        "criterion = nn.NLLLoss()\n",
        "optimizer = optim.Adam(model.parameters(), lr=0.003)\n",
        "\n",
        "epochs = 30\n",
        "steps = 0\n",
        "\n",
        "train_losses, test_losses = [], []\n",
        "for e in range(epochs):\n",
        "    running_loss = 0\n",
        "    for images, labels in trainloader:\n",
        "        \n",
        "        optimizer.zero_grad()\n",
        "        \n",
        "        log_ps = model(images)\n",
        "        loss = criterion(log_ps, labels)\n",
        "        loss.backward()\n",
        "        optimizer.step()\n",
        "        \n",
        "        running_loss += loss.item()\n",
        "        \n",
        "    else:\n",
        "        ## TODO: Implement the validation pass and print out the validation accuracy\n",
        "        accuracy = 0\n",
        "        test_loss = 0\n",
        "\n",
        "        with torch.no_grad():\n",
        "\n",
        "          # turn model to evaluation mode\n",
        "          model.eval()\n",
        "\n",
        "          for i, (x_batch, y_batch) in enumerate(testloader):\n",
        "            logprobs = model(x_batch)\n",
        "            test_loss += criterion(logprobs, y_batch)\n",
        "\n",
        "            probs = torch.exp(logprobs)\n",
        "            _, predictions = probs.topk(1, dim=1)\n",
        "            accuracy += torch.mean((predictions.squeeze() == y_batch).type(torch.FloatTensor))\n",
        "\n",
        "          test_losses.append(test_loss/len(testloader))\n",
        "          train_losses.append(running_loss/len(trainloader))\n",
        "\n",
        "        print(\"Epochs: {}/{}\".format(e+1, epochs),\n",
        "              \"Training loss: {}\".format(running_loss / len(trainloader)),\n",
        "              \"Test loss: {}\".format(test_loss / len(testloader)),\n",
        "              \"Test accuracy: {}\".format(accuracy / len(testloader)))\n",
        "\n",
        "        # turn the model to training mode\n",
        "        model.train()"
      ],
      "execution_count": 10,
      "outputs": [
        {
          "output_type": "stream",
          "text": [
            "Epochs: 1/30 Training loss: 0.6093374070391726 Test loss: 0.5015403628349304 Test accuracy: 0.8276941180229187\n",
            "Epochs: 2/30 Training loss: 0.48302750818447265 Test loss: 0.46666985750198364 Test accuracy: 0.8263098001480103\n",
            "Epochs: 3/30 Training loss: 0.4532098783485925 Test loss: 0.4233783185482025 Test accuracy: 0.8487017750740051\n",
            "Epochs: 4/30 Training loss: 0.4346880286709586 Test loss: 0.41661620140075684 Test accuracy: 0.8515165448188782\n",
            "Epochs: 5/30 Training loss: 0.4243478239186283 Test loss: 0.4027331471443176 Test accuracy: 0.8569163084030151\n",
            "Epochs: 6/30 Training loss: 0.41766023453174117 Test loss: 0.40788397192955017 Test accuracy: 0.8608972430229187\n",
            "Epochs: 7/30 Training loss: 0.40278987696112345 Test loss: 0.41395172476768494 Test accuracy: 0.8609777688980103\n",
            "Epochs: 8/30 Training loss: 0.39477443845986304 Test loss: 0.3895763158798218 Test accuracy: 0.8623334169387817\n",
            "Epochs: 9/30 Training loss: 0.39196071460017007 Test loss: 0.3944467008113861 Test accuracy: 0.8620519638061523\n",
            "Epochs: 10/30 Training loss: 0.39106812777676814 Test loss: 0.39331579208374023 Test accuracy: 0.868054986000061\n",
            "Epochs: 11/30 Training loss: 0.37857562162156805 Test loss: 0.3838459849357605 Test accuracy: 0.8652229309082031\n",
            "Epochs: 12/30 Training loss: 0.38033514685912934 Test loss: 0.36671337485313416 Test accuracy: 0.870720386505127\n",
            "Epochs: 13/30 Training loss: 0.3707616037524331 Test loss: 0.3905266225337982 Test accuracy: 0.8655847311019897\n",
            "Epochs: 14/30 Training loss: 0.3708646210081288 Test loss: 0.3902914524078369 Test accuracy: 0.8615578413009644\n",
            "Epochs: 15/30 Training loss: 0.38204892223545994 Test loss: 0.40897053480148315 Test accuracy: 0.8584674000740051\n",
            "Epochs: 16/30 Training loss: 0.36858492323965913 Test loss: 0.37910276651382446 Test accuracy: 0.8713005185127258\n",
            "Epochs: 17/30 Training loss: 0.36064258051801845 Test loss: 0.3888552784919739 Test accuracy: 0.8683823347091675\n",
            "Epochs: 18/30 Training loss: 0.36804809820041984 Test loss: 0.39052385091781616 Test accuracy: 0.8620749711990356\n",
            "Epochs: 19/30 Training loss: 0.3600366909001301 Test loss: 0.36410102248191833 Test accuracy: 0.873046875\n",
            "Epochs: 20/30 Training loss: 0.35502795846477503 Test loss: 0.3729568123817444 Test accuracy: 0.8710305094718933\n",
            "Epochs: 21/30 Training loss: 0.35391259360224453 Test loss: 0.36957794427871704 Test accuracy: 0.8707663416862488\n",
            "Epochs: 22/30 Training loss: 0.35575633455536515 Test loss: 0.37268155813217163 Test accuracy: 0.8737190365791321\n",
            "Epochs: 23/30 Training loss: 0.35226382380291854 Test loss: 0.37753817439079285 Test accuracy: 0.8685776591300964\n",
            "Epochs: 24/30 Training loss: 0.35484383428401783 Test loss: 0.36095088720321655 Test accuracy: 0.8740751147270203\n",
            "Epochs: 25/30 Training loss: 0.3516619983893722 Test loss: 0.3764408826828003 Test accuracy: 0.871691107749939\n",
            "Epochs: 26/30 Training loss: 0.34823917679345684 Test loss: 0.3775293529033661 Test accuracy: 0.8700309991836548\n",
            "Epochs: 27/30 Training loss: 0.34631989059894325 Test loss: 0.3811008334159851 Test accuracy: 0.868278980255127\n",
            "Epochs: 28/30 Training loss: 0.3474170612786879 Test loss: 0.3757774829864502 Test accuracy: 0.8681755065917969\n",
            "Epochs: 29/30 Training loss: 0.33959299394253223 Test loss: 0.37786561250686646 Test accuracy: 0.874402642250061\n",
            "Epochs: 30/30 Training loss: 0.34155182047947635 Test loss: 0.37434861063957214 Test accuracy: 0.8710477948188782\n"
          ],
          "name": "stdout"
        }
      ]
    },
    {
      "cell_type": "code",
      "metadata": {
        "id": "DJm36NlxSQkd",
        "colab_type": "code",
        "colab": {
          "base_uri": "https://localhost:8080/",
          "height": 284
        },
        "outputId": "c172a860-55c6-46cd-aa47-a3bdd21d53a4"
      },
      "source": [
        "plt.plot(train_losses, label=\"train loss\")\n",
        "plt.plot(test_losses, label=\"test loss\")\n",
        "plt.legend(frameon=False)"
      ],
      "execution_count": 11,
      "outputs": [
        {
          "output_type": "execute_result",
          "data": {
            "text/plain": [
              "<matplotlib.legend.Legend at 0x7f6688d95860>"
            ]
          },
          "metadata": {
            "tags": []
          },
          "execution_count": 11
        },
        {
          "output_type": "display_data",
          "data": {
            "image/png": "[encoded data removed]",
            "text/plain": [
              "<Figure size 432x288 with 1 Axes>"
            ]
          },
          "metadata": {
            "tags": []
          }
        }
      ]
    },
    {
      "cell_type": "markdown",
      "metadata": {
        "id": "JXwUfkptwn4K",
        "colab_type": "text"
      },
      "source": [
        "## Inference\n",
        "\n",
        "Now that the model is trained, we can use it for inference. We've done this before, but now we need to remember to set the model in inference mode with `model.eval()`. You'll also want to turn off autograd with the `torch.no_grad()` context."
      ]
    },
    {
      "cell_type": "code",
      "metadata": {
        "id": "G9I8i7ahwn4K",
        "colab_type": "code",
        "colab": {}
      },
      "source": [
        "# Import helper module (should be in the repo)\n",
        "import helper\n",
        "\n",
        "# Test out your network!\n",
        "\n",
        "model.eval()\n",
        "\n",
        "dataiter = iter(testloader)\n",
        "images, labels = dataiter.next()\n",
        "img = images[0]\n",
        "# Convert 2D image to 1D vector\n",
        "img = img.view(1, 784)\n",
        "\n",
        "# Calculate the class probabilities (softmax) for img\n",
        "with torch.no_grad():\n",
        "    output = model.forward(img)\n",
        "\n",
        "ps = torch.exp(output)\n",
        "\n",
        "# Plot the image and probabilities\n",
        "# helper.view_classify(img.view(1, 28, 28), ps, version='Fashion')"
      ],
      "execution_count": 0,
      "outputs": []
    },
    {
      "cell_type": "markdown",
      "metadata": {
        "id": "VXUROE4Awn4P",
        "colab_type": "text"
      },
      "source": [
        "## Next Up!\n",
        "\n",
        "In the next part, I'll show you how to save your trained models. In general, you won't want to train a model everytime you need it. Instead, you'll train once, save it, then load the model when you want to train more or use if for inference."
      ]
    },
    {
      "cell_type": "code",
      "metadata": {
        "id": "KKDeBOI0RlVT",
        "colab_type": "code",
        "colab": {}
      },
      "source": [
        ""
      ],
      "execution_count": 0,
      "outputs": []
    }
  ]
}